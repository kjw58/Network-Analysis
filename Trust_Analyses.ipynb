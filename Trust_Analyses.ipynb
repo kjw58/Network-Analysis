{
 "cells": [
  {
   "cell_type": "code",
   "execution_count": null,
   "metadata": {},
   "outputs": [],
   "source": [
    "import pandas as pd\n",
    "import numpy as np"
   ]
  },
  {
   "cell_type": "code",
   "execution_count": null,
   "metadata": {},
   "outputs": [],
   "source": [
    "# Read in T1_manipulated df, casas df + estudio_trabajo df\n",
    "T0 = pd.read_csv('/Users/katherinewu/Library/CloudStorage/GoogleDrive-kath.j.wu@gmail.com/My Drive/5. Coding/na-data-exploration/TrUST Data/T0_manipulated.csv', low_memory = False)\n",
    "T1 = pd.read_csv('/Users/katherinewu/Library/CloudStorage/GoogleDrive-kath.j.wu@gmail.com/My Drive/5. Coding/na-data-exploration/TrUST Data/T1_manipulated.csv', low_memory = False)\n",
    "T2 = pd.read_csv('/Users/katherinewu/Library/CloudStorage/GoogleDrive-kath.j.wu@gmail.com/My Drive/5. Coding/na-data-exploration/TrUST Data/T2_manipulated.csv', low_memory = False)\n",
    "T3 = pd.read_csv('/Users/katherinewu/Library/CloudStorage/GoogleDrive-kath.j.wu@gmail.com/My Drive/5. Coding/na-data-exploration/TrUST Data/T3_manipulated.csv', low_memory = False)\n",
    "casas = pd.read_csv('/Users/katherinewu/Library/CloudStorage/GoogleDrive-kath.j.wu@gmail.com/My Drive/5. Coding/na-data-exploration/TrUST Data/casa.csv', low_memory = False)\n",
    "trabajo = pd.read_csv('/Users/katherinewu/Library/CloudStorage/GoogleDrive-kath.j.wu@gmail.com/My Drive/5. Coding/na-data-exploration/TrUST Data/estudio_trabajo.csv', low_memory = False)"
   ]
  },
  {
   "cell_type": "code",
   "execution_count": null,
   "metadata": {},
   "outputs": [],
   "source": [
    "# Select only participants from Ciudad Bolivar in T0 + check length of df\n",
    "T0_CB = T0[T0['localidad'] == 'Ciudad Bolivar']\n",
    "T0_CB.head()\n",
    "print(f\"Total number of rows: {len(T0_CB)}\") # Based on 'TrUST_T3 Sampling Strategy version larga', n = 1.031\n",
    "print(f\"Number of columns: {len(T0_CB.columns)}\") # # of columns in 'Diccionario Encuesta Hogares' for T0-transmicable = 549\n"
   ]
  },
  {
   "cell_type": "code",
   "execution_count": null,
   "metadata": {},
   "outputs": [],
   "source": [
    "# Select only participants from Ciudad Bolivar in casas + check length of df\n",
    "casas_CB = casas[casas['transmi__3'] == 'Ciudad Bolivar']\n",
    "casas_CB.head()\n",
    "print(f\"Total number of rows: {len(casas_CB)}\") # This # matches T0\n",
    "# Based on data exploration, n = 2052 for CB + SC"
   ]
  },
  {
   "cell_type": "code",
   "execution_count": null,
   "metadata": {},
   "outputs": [],
   "source": [
    "# Select only participants from Ciudad Bolivar in T1 + check length of df\n",
    "T1.head()\n",
    "T1_CB = T1[T1['T1_localidad'] == 'Ciudad Bolivar'] \n",
    "print(f\"Total number of rows: {len(T1_CB)}\") # This # matches 'TrUST_T3 Sampling Strategy version larga', n = 825"
   ]
  },
  {
   "cell_type": "code",
   "execution_count": null,
   "metadata": {},
   "outputs": [],
   "source": [
    "# Select only participants from Ciudad Bolivar in T2 + check length of df\n",
    "T2.head()\n",
    "T2_CB = T2[T2['T2_localidad'] == 1] # According 'Diccionario Encuesta Hogares' to 1 = CB \n",
    "#T2_CB = T2[T2['T2_Q3dir'] == 1] # Wanted to add question confirming that address stayed the same, but ended up filtering the df in a way that didn't match the sampling strategy #s\n",
    "print(f\"Total number of rows: {len(T2_CB)}\") # this # matches 'TrUST_T3 Sampling Strategy version larga', n = 694"
   ]
  },
  {
   "cell_type": "code",
   "execution_count": null,
   "metadata": {},
   "outputs": [],
   "source": [
    "# Select only participants from Ciudad Bolivar in T3 + check length of df\n",
    "T3.head()\n",
    "T3_CB = T3[T3['T3_ZONA_BASE'] == 'Ciudad Bolivar'] # According 'Diccionario Encuesta Hogares' to 1 = CB \n",
    "#T3_CB = T3[T3['T3_P3'] == 1] # Wanted to add question confirming that address stayed the same, but ended up filtering the df in a way that didn't match the sampling strategy #s\n",
    "# Also tried to use 'T3_LOCALIDAD' == 19 for CB, but the length of the df also didn't match the sampling strategy #s\n",
    "print(f\"Total number of rows: {len(T3_CB)}\") # this # matches 'TrUST_T3 Sampling Strategy version larga', n = 611"
   ]
  },
  {
   "cell_type": "code",
   "execution_count": null,
   "metadata": {},
   "outputs": [],
   "source": [
    "# Test merging casas df with trabajo df to see how many participants we can match\n",
    "c_t = pd.merge(casas, trabajo, left_on='transmi__1', right_on='Name', how='inner')\n",
    "print(c_t.head())\n",
    "print(f\"Total number of rows: {len(c_t)}\") # all participants matched\n",
    "\n",
    "# Select columns of interest in new casas + trabajo df\n",
    "c_t_select = c_t[['transmi__4', 'transmi__1', 'lat_x', 'lon_x', 'Name', 'lat_y', 'lon_y']].copy()\n",
    "c_t_select.rename(columns={'transmi__4': 'Q2dir','transmi__1': 'casas_ID', 'Name': 'trabajo_ID'})\n",
    "c_t_select.head()"
   ]
  },
  {
   "cell_type": "code",
   "execution_count": null,
   "metadata": {},
   "outputs": [],
   "source": [
    "\n",
    "# Now that I've confirmed that the household survey #s for all time points (T0, T1, T2 + T3) closely align with 'TrUST_T3 Sampling Strategy version larga', I'll begin \n",
    "    # to merge them with the lat/long from the casas df - I need to use T0 bc it's the only df with addresses included (Q2dir), which is what I'll merge on\n",
    "T0_c_merged = pd.merge(T0_CB, casas_CB, left_on='Q2dir', right_on='transmi__4', how='inner')\n",
    "print(T0_c_merged.head())\n",
    "print(f\"Total number of rows: {len(T0_c_merged)}\") # 878 vs. 877 when done with the entire df not isolated for CB locality"
   ]
  },
  {
   "cell_type": "code",
   "execution_count": null,
   "metadata": {},
   "outputs": [],
   "source": [
    "# Isolate df down to the most basic items of interest to test #s\n",
    "T0_c = T0_c_merged[['ID', 'transmi__1', 'localidad', 'transmi__3', 'Q2dir', 'transmi__4', 'lat', 'lon', 'Q2dir', 'Q11', 'Q12', 'Q13', 'Q15', 'Q16', 'Q19', 'Q87c1', 'Q115', 'Q116']]"
   ]
  },
  {
   "cell_type": "code",
   "execution_count": null,
   "metadata": {},
   "outputs": [],
   "source": [
    "T0_c.head()"
   ]
  },
  {
   "cell_type": "code",
   "execution_count": null,
   "metadata": {},
   "outputs": [],
   "source": [
    "T3_CB_select = T3_CB[['T3_ID_INF', 'T3_ZONA_BASE']]\n",
    "T3_CB_select.head()"
   ]
  },
  {
   "cell_type": "code",
   "execution_count": null,
   "metadata": {},
   "outputs": [],
   "source": [
    "# Test merging T0_c merged df on T3 to see how many participants we can match in the final timeframe\n",
    "T03_c = pd.merge(T0_c, T3_CB_select, left_on='ID', right_on='T3_ID_INF', how='inner')\n",
    "print(T03_c.head())\n",
    "print(f\"Total number of rows: {len(T03_c)}\") # sample size in sampling strategy is n = 598"
   ]
  },
  {
   "cell_type": "code",
   "execution_count": null,
   "metadata": {},
   "outputs": [],
   "source": [
    "T2_CB.head()"
   ]
  },
  {
   "cell_type": "code",
   "execution_count": null,
   "metadata": {},
   "outputs": [],
   "source": [
    "T2_CB_select = T2_CB[['T2_ID', 'T2_localidad']]\n",
    "T2_CB_select.head()"
   ]
  },
  {
   "cell_type": "code",
   "execution_count": null,
   "metadata": {},
   "outputs": [],
   "source": [
    "# Test merging T03_c merged df with T2 to see how many participants we can match\n",
    "T023_c = pd.merge(T03_c, T2_CB_select, left_on='ID', right_on='T2_ID', how='inner')\n",
    "print(T023_c.head())\n",
    "print(f\"Total number of rows: {len(T023_c)}\")"
   ]
  },
  {
   "cell_type": "code",
   "execution_count": null,
   "metadata": {},
   "outputs": [],
   "source": [
    "T1_CB.head() # look at ID11060170121129 -- address changed but remained within CB, I'm most likely missing a few of these + need to decide whether I keep only the participants that\n",
    "    # remained in the same location for all 4 time periods"
   ]
  },
  {
   "cell_type": "code",
   "execution_count": null,
   "metadata": {},
   "outputs": [],
   "source": [
    "T1_CB_select = T1_CB[['T1_ID', 'T1_localidad', 'T1_Q2dir']]\n",
    "T1_CB_select.head()"
   ]
  },
  {
   "cell_type": "code",
   "execution_count": null,
   "metadata": {},
   "outputs": [],
   "source": [
    "# Test merging T023_c merged df with T1 to see how many participants we can match\n",
    "T0123_c = pd.merge(T023_c, T1_CB_select, left_on='ID', right_on='T1_ID', how='inner')\n",
    "print(T0123_c.head())\n",
    "print(f\"Total number of rows: {len(T0123_c)}\") # n = 515, no loss between T023_c + T0123_c"
   ]
  },
  {
   "cell_type": "code",
   "execution_count": null,
   "metadata": {},
   "outputs": [],
   "source": [
    "# Save T0123_c df to csv to ingest into QGIS\n",
    "#T0123_c.to_csv('/Users/katherinewu/Library/CloudStorage/GoogleDrive-kath.j.wu@gmail.com/My Drive/5. Coding/na-data-exploration/TrUST Data/T0123_c.csv', index=False)"
   ]
  },
  {
   "cell_type": "code",
   "execution_count": null,
   "metadata": {},
   "outputs": [],
   "source": [
    "print(trabajo.head())"
   ]
  },
  {
   "cell_type": "code",
   "execution_count": null,
   "metadata": {},
   "outputs": [],
   "source": [
    "# Change type of ID columns for casas + trabajo to integer to merge\n",
    "casas['transmi__1'] = casas['transmi__1'].astype(int)\n",
    "trabajo['Name'] = trabajo['Name'].astype(int)"
   ]
  },
  {
   "cell_type": "code",
   "execution_count": null,
   "metadata": {},
   "outputs": [],
   "source": [
    "# Test merging casas df with trabajo df to see how many participants we can match\n",
    "c_t = pd.merge(casas, trabajo, left_on='transmi__1', right_on='Name', how='inner')\n",
    "print(c_t.head())\n",
    "print(f\"Total number of rows: {len(c_t)}\") # all participants matched"
   ]
  },
  {
   "cell_type": "code",
   "execution_count": null,
   "metadata": {},
   "outputs": [],
   "source": [
    "# Merge casas and trabajo\n",
    "c_t = pd.merge(casas, trabajo, left_on='transmi__1', right_on='Name', how='inner')\n",
    "print(c_t.head())\n",
    "print(f\"Total number of rows: {len(c_t)}\")  # all participants matched\n",
    "\n",
    "# Select and rename columns\n",
    "c_t_select = c_t[['transmi__1', 'lat_x', 'lon_x', 'Name', 'lat_y', 'lon_y']].copy()\n",
    "c_t_select = c_t_select.rename(columns={\n",
    "    'transmi__1': 'casas_ID',\n",
    "    'Name': 'trabajo_ID'\n",
    "})\n",
    "\n",
    "print(c_t_select.head())"
   ]
  },
  {
   "cell_type": "code",
   "execution_count": null,
   "metadata": {},
   "outputs": [],
   "source": [
    "T0123_c['transmi__1'] = T0123_c['transmi__1'].astype(int)\n",
    "c_t_select.loc[:, 'casas_ID'] = c_t_select['casas_ID'].astype(int)"
   ]
  },
  {
   "cell_type": "code",
   "execution_count": null,
   "metadata": {},
   "outputs": [],
   "source": [
    "# Will now combine T0123 df wih trabajo date to add in each participant's work location\n",
    "T0123_ct = pd.merge(T0123_c, c_t, left_on='transmi__1', right_on='transmi__1', how='inner') # Refer to email from MAW on dataset details\n",
    "T0123_ct.head()\n",
    "print(f\"Total number of rows: {len(T0123_ct)}\") # all participants matched"
   ]
  },
  {
   "cell_type": "code",
   "execution_count": null,
   "metadata": {},
   "outputs": [],
   "source": [
    "T0123_ct"
   ]
  },
  {
   "cell_type": "code",
   "execution_count": null,
   "metadata": {},
   "outputs": [],
   "source": [
    "T0123_ct.head()\n",
    "len(T0123_ct)"
   ]
  },
  {
   "cell_type": "code",
   "execution_count": null,
   "metadata": {},
   "outputs": [],
   "source": [
    "len(T0123_c)"
   ]
  },
  {
   "cell_type": "code",
   "execution_count": null,
   "metadata": {},
   "outputs": [],
   "source": [
    "column_values_ct = T0123_ct['transmi__1'].tolist()\n",
    "print(column_values_ct)"
   ]
  },
  {
   "cell_type": "code",
   "execution_count": null,
   "metadata": {},
   "outputs": [],
   "source": [
    "column_values_c = T0123_c['transmi__1'].tolist()\n",
    "print(column_values_c)"
   ]
  },
  {
   "cell_type": "code",
   "execution_count": null,
   "metadata": {},
   "outputs": [],
   "source": [
    "column_values_ct_sel = c_t_select['casas_ID'].tolist()\n",
    "print(column_values_ct_sel)"
   ]
  },
  {
   "cell_type": "code",
   "execution_count": null,
   "metadata": {},
   "outputs": [],
   "source": [
    "# Find common values\n",
    "common_values = set(c_t_select['casas_ID']).intersection(set(T0123_c['transmi__1']))\n",
    "\n",
    "# Count the number of common values\n",
    "common_count = len(common_values)\n",
    "\n",
    "#print(f\"Common values: {common_values}\")\n",
    "print(f\"Number of common values: {common_count}\")"
   ]
  },
  {
   "cell_type": "code",
   "execution_count": null,
   "metadata": {},
   "outputs": [],
   "source": [
    "# Find common values\n",
    "common_values = set(trabajo['Name']).intersection(set(T0123_c['transmi__1']))\n",
    "\n",
    "# Count the number of common values\n",
    "common_count = len(common_values)\n",
    "\n",
    "#print(f\"Common values: {common_values}\")\n",
    "print(f\"Number of common values: {common_count}\")"
   ]
  },
  {
   "cell_type": "code",
   "execution_count": null,
   "metadata": {},
   "outputs": [],
   "source": [
    "# Find common values\n",
    "common_values = set(trabajo['Name']).intersection(set(casas['transmi__1']))\n",
    "\n",
    "# Count the number of common values\n",
    "common_count = len(common_values)\n",
    "\n",
    "#print(f\"Common values: {common_values}\")\n",
    "print(f\"Number of common values: {common_count}\")"
   ]
  },
  {
   "cell_type": "code",
   "execution_count": null,
   "metadata": {},
   "outputs": [],
   "source": [
    "# Find common values\n",
    "common_values = set(casas['transmi__1']).intersection(set(T0123_c['transmi__1']))\n",
    "\n",
    "# Count the number of common values\n",
    "common_count = len(common_values)\n",
    "\n",
    "#print(f\"Common values: {common_values}\")\n",
    "print(f\"Number of common values: {common_count}\")"
   ]
  },
  {
   "cell_type": "code",
   "execution_count": null,
   "metadata": {},
   "outputs": [],
   "source": [
    "trabajo.dtypes"
   ]
  },
  {
   "cell_type": "code",
   "execution_count": null,
   "metadata": {},
   "outputs": [],
   "source": [
    "casas.dtypes"
   ]
  },
  {
   "cell_type": "code",
   "execution_count": null,
   "metadata": {},
   "outputs": [],
   "source": [
    "# Convert columns to sets\n",
    "set_df1 = set(T0123_c['transmi__1'])\n",
    "set_df2 = set(c_t_select['casas_ID'])\n",
    "\n",
    "# Find non-matching values from df1\n",
    "non_matching_from_df1 = list(set_df1 - set_df2)\n",
    "\n",
    "# Find non-matching values from df2\n",
    "non_matching_from_df2 = list(set_df2 - set_df1)\n",
    "\n",
    "print(f\"Non-matching values from df1: {non_matching_from_df1}\")\n",
    "print(f\"Non-matching values from df2: {non_matching_from_df2}\")"
   ]
  },
  {
   "cell_type": "code",
   "execution_count": null,
   "metadata": {},
   "outputs": [],
   "source": [
    "# Convert columns to sets\n",
    "set_df1 = set(T0123_c['transmi__1'])\n",
    "set_df2 = set(casas_CB['transmi__1'])\n",
    "\n",
    "# Find non-matching values from df1\n",
    "non_matching_from_df1 = list(set_df1 - set_df2)\n",
    "\n",
    "# Find non-matching values from df2\n",
    "non_matching_from_df2 = list(set_df2 - set_df1)\n",
    "\n",
    "print(f\"Non-matching values from df1: {non_matching_from_df1}\")\n",
    "print(f\"Non-matching values from df2: {non_matching_from_df2}\")\n",
    "print(len(non_matching_from_df2))\n",
    "print(len(non_matching_from_df1))"
   ]
  },
  {
   "cell_type": "code",
   "execution_count": null,
   "metadata": {},
   "outputs": [],
   "source": [
    "print(len(casas)-len(casas_CB))\n",
    "print(len(casas_CB))\n",
    "print(len(casas))\n",
    "print(len(casas_CB)-len(non_matching_from_df2))"
   ]
  },
  {
   "cell_type": "code",
   "execution_count": null,
   "metadata": {},
   "outputs": [],
   "source": [
    "c_t_select.head()"
   ]
  },
  {
   "cell_type": "code",
   "execution_count": null,
   "metadata": {},
   "outputs": [],
   "source": [
    "print(len(casas))\n",
    "casas.head()"
   ]
  },
  {
   "cell_type": "code",
   "execution_count": null,
   "metadata": {},
   "outputs": [],
   "source": [
    "print(T0123_c.columns)\n",
    "print(c_t_select.columns)"
   ]
  },
  {
   "cell_type": "code",
   "execution_count": null,
   "metadata": {},
   "outputs": [],
   "source": [
    "# Create new data frame from T0123_c\n",
    "T0123_c_clean = T0123_c[['ID', 'transmi__1', 'localidad', 'transmi__3', 'transmi__4', 'lat', 'lon', 'Q11', 'Q12', 'Q13', 'Q15', 'Q16', 'Q19', 'Q87c1', 'Q115', 'Q116']]\n",
    "T0123_c_clean.head()"
   ]
  },
  {
   "cell_type": "code",
   "execution_count": null,
   "metadata": {},
   "outputs": [],
   "source": [
    "# Save c_t df to csv to compare outside of VSCode\n",
    "#c_t.to_csv('/Users/katherinewu/Library/CloudStorage/GoogleDrive-kath.j.wu@gmail.com/My Drive/5. Coding/na-data-exploration/TrUST Data/c_t.csv', index=False)"
   ]
  },
  {
   "cell_type": "code",
   "execution_count": null,
   "metadata": {},
   "outputs": [],
   "source": [
    "# Save T0123_ct df to csv to ingest into QGIS\n",
    "#T0123_ct.to_csv('/Users/katherinewu/Library/CloudStorage/GoogleDrive-kath.j.wu@gmail.com/My Drive/5. Coding/na-data-exploration/TrUST Data/T0123_ct.csv', index=False)"
   ]
  },
  {
   "cell_type": "code",
   "execution_count": null,
   "metadata": {},
   "outputs": [],
   "source": []
  }
 ],
 "metadata": {
  "language_info": {
   "name": "python"
  },
  "orig_nbformat": 4
 },
 "nbformat": 4,
 "nbformat_minor": 2
}
